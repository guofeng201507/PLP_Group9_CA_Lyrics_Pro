{
 "cells": [
  {
   "cell_type": "code",
   "execution_count": 1,
   "metadata": {},
   "outputs": [],
   "source": [
    "import os\n",
    "import json\n",
    "import codecs\n",
    "import pandas as pd\n",
    "import numpy as np\n",
    "import random\n",
    "import pickle\n",
    "\n",
    "from joblib import dump, load\n",
    "from sklearn.feature_selection import SelectKBest\n",
    "from sklearn.feature_selection import chi2\n",
    "from sklearn.feature_extraction.text import TfidfVectorizer\n",
    "from sklearn.linear_model import LogisticRegression\n",
    "from sklearn.svm import SVC\n",
    "from sklearn.metrics import confusion_matrix"
   ]
  },
  {
   "cell_type": "code",
   "execution_count": 2,
   "metadata": {},
   "outputs": [],
   "source": [
    "train_list = []"
   ]
  },
  {
   "cell_type": "code",
   "execution_count": 3,
   "metadata": {},
   "outputs": [
    {
     "name": "stdout",
     "output_type": "stream",
     "text": [
      "{'data': 'Exit'}\n"
     ]
    }
   ],
   "source": [
    "file_location = \"./data/intent/train_Exit.json\"\n",
    "file_stream = codecs.open(file_location, 'r', 'utf-8')\n",
    "jdata = json.load(file_stream)\n",
    "\n",
    "print(jdata['Exit'][0])"
   ]
  },
  {
   "cell_type": "code",
   "execution_count": 4,
   "metadata": {},
   "outputs": [
    {
     "name": "stdout",
     "output_type": "stream",
     "text": [
      "13\n"
     ]
    }
   ],
   "source": [
    "for data in jdata['Exit']:\n",
    "    train_list.append([data['data'].lower(),'exit'])\n",
    "print (len(train_list))"
   ]
  },
  {
   "cell_type": "code",
   "execution_count": 5,
   "metadata": {},
   "outputs": [
    {
     "name": "stdout",
     "output_type": "stream",
     "text": [
      "{'data': 'Generate Lyrics'}\n"
     ]
    }
   ],
   "source": [
    "file_location = \"./data/intent/train_GenerateLyrics.json\"\n",
    "file_stream = codecs.open(file_location, 'r', 'utf-8')\n",
    "jdata = json.load(file_stream)\n",
    "\n",
    "print(jdata['GenerateLyrics'][0])"
   ]
  },
  {
   "cell_type": "code",
   "execution_count": 6,
   "metadata": {},
   "outputs": [
    {
     "name": "stdout",
     "output_type": "stream",
     "text": [
      "27\n"
     ]
    }
   ],
   "source": [
    "for data in jdata['GenerateLyrics']:\n",
    "    train_list.append([data['data'].lower(),'generate'])\n",
    "print (len(train_list))"
   ]
  },
  {
   "cell_type": "code",
   "execution_count": 7,
   "metadata": {},
   "outputs": [
    {
     "data": {
      "text/plain": [
       "[['i want to exit', 'exit'],\n",
       " ['i want to leave', 'exit'],\n",
       " ['restart', 'exit'],\n",
       " ['cancel', 'exit']]"
      ]
     },
     "execution_count": 7,
     "metadata": {},
     "output_type": "execute_result"
    }
   ],
   "source": [
    "train_list[9:13]"
   ]
  },
  {
   "cell_type": "code",
   "execution_count": 8,
   "metadata": {},
   "outputs": [
    {
     "name": "stdout",
     "output_type": "stream",
     "text": [
      "{'data': 'Find similar songs for me'}\n"
     ]
    }
   ],
   "source": [
    "file_location = \"./data/intent/train_MatchSong.json\"\n",
    "file_stream = codecs.open(file_location, 'r', 'utf-8')\n",
    "jdata = json.load(file_stream)\n",
    "\n",
    "print(jdata['MatchSong'][0])"
   ]
  },
  {
   "cell_type": "code",
   "execution_count": 9,
   "metadata": {},
   "outputs": [
    {
     "name": "stdout",
     "output_type": "stream",
     "text": [
      "47\n"
     ]
    }
   ],
   "source": [
    "for data in jdata['MatchSong']:\n",
    "    train_list.append([data['data'].lower(),'find'])\n",
    "print (len(train_list))"
   ]
  },
  {
   "cell_type": "code",
   "execution_count": 10,
   "metadata": {},
   "outputs": [
    {
     "name": "stdout",
     "output_type": "stream",
     "text": [
      "{'data': 'Recommend a song for me'}\n"
     ]
    }
   ],
   "source": [
    "file_location = \"./data/intent/train_RecommendSong.json\"\n",
    "file_stream = codecs.open(file_location, 'r', 'utf-8')\n",
    "jdata = json.load(file_stream)\n",
    "\n",
    "print(jdata['RecommendSong'][0])"
   ]
  },
  {
   "cell_type": "code",
   "execution_count": 11,
   "metadata": {},
   "outputs": [
    {
     "name": "stdout",
     "output_type": "stream",
     "text": [
      "61\n"
     ]
    }
   ],
   "source": [
    "for data in jdata['RecommendSong']:\n",
    "    train_list.append([data['data'].lower(),'recom'])\n",
    "print (len(train_list))"
   ]
  },
  {
   "cell_type": "code",
   "execution_count": 12,
   "metadata": {},
   "outputs": [
    {
     "name": "stdout",
     "output_type": "stream",
     "text": [
      "{'data': 'Hello'}\n"
     ]
    }
   ],
   "source": [
    "file_location = \"./data/intent/train_Greeting.json\"\n",
    "file_stream = codecs.open(file_location, 'r', 'utf-8')\n",
    "jdata = json.load(file_stream)\n",
    "\n",
    "print(jdata['Greeting'][0])"
   ]
  },
  {
   "cell_type": "code",
   "execution_count": 13,
   "metadata": {},
   "outputs": [
    {
     "name": "stdout",
     "output_type": "stream",
     "text": [
      "75\n"
     ]
    }
   ],
   "source": [
    "for data in jdata['Greeting']:\n",
    "    train_list.append([data['data'].lower(),'greet'])\n",
    "print (len(train_list))"
   ]
  },
  {
   "cell_type": "code",
   "execution_count": 14,
   "metadata": {},
   "outputs": [],
   "source": [
    "random.seed(4)\n",
    "random.shuffle(train_list)"
   ]
  },
  {
   "cell_type": "code",
   "execution_count": 15,
   "metadata": {},
   "outputs": [],
   "source": [
    "X_train = [t[0] for t in train_list]\n",
    "Y_train = [t[1] for t in train_list]"
   ]
  },
  {
   "cell_type": "code",
   "execution_count": 16,
   "metadata": {},
   "outputs": [],
   "source": [
    "bigram_vectorizer = TfidfVectorizer(ngram_range=(1, 2),token_pattern=r'\\b\\w+\\b', min_df=1)\n",
    "train_bigram_vectors = bigram_vectorizer.fit_transform(X_train)"
   ]
  },
  {
   "cell_type": "code",
   "execution_count": 17,
   "metadata": {},
   "outputs": [
    {
     "data": {
      "text/plain": [
       "(75, 215)"
      ]
     },
     "execution_count": 17,
     "metadata": {},
     "output_type": "execute_result"
    }
   ],
   "source": [
    "train_bigram_vectors.shape"
   ]
  },
  {
   "cell_type": "code",
   "execution_count": 18,
   "metadata": {},
   "outputs": [],
   "source": [
    "pickle.dump(train_bigram_vectors, open(\"tfidf_vector.pkl\", \"wb\"))"
   ]
  },
  {
   "cell_type": "code",
   "execution_count": 19,
   "metadata": {},
   "outputs": [],
   "source": [
    "clf_ME = LogisticRegression(random_state=0, solver='lbfgs').fit(train_bigram_vectors, Y_train)"
   ]
  },
  {
   "cell_type": "code",
   "execution_count": 20,
   "metadata": {},
   "outputs": [],
   "source": [
    "model_svm = SVC(C=5000.0, gamma=\"auto\", kernel='rbf')\n",
    "clr_svm = model_svm.fit(train_bigram_vectors, Y_train)   "
   ]
  },
  {
   "cell_type": "code",
   "execution_count": 21,
   "metadata": {},
   "outputs": [
    {
     "data": {
      "text/plain": [
       "['clf_ME.joblib']"
      ]
     },
     "execution_count": 21,
     "metadata": {},
     "output_type": "execute_result"
    }
   ],
   "source": [
    "dump(clf_ME, 'clf_ME.joblib')"
   ]
  },
  {
   "cell_type": "code",
   "execution_count": 22,
   "metadata": {},
   "outputs": [
    {
     "data": {
      "text/plain": [
       "['clr_svm.joblib']"
      ]
     },
     "execution_count": 22,
     "metadata": {},
     "output_type": "execute_result"
    }
   ],
   "source": [
    "dump(clr_svm, 'clr_svm.joblib')"
   ]
  },
  {
   "cell_type": "code",
   "execution_count": 23,
   "metadata": {},
   "outputs": [],
   "source": [
    "clf_ME_test = load('clf_ME.joblib')\n",
    "clf_svm_test = load('clr_svm.joblib')"
   ]
  },
  {
   "cell_type": "code",
   "execution_count": 24,
   "metadata": {},
   "outputs": [],
   "source": [
    "X_test = ['leave system', \n",
    "          'Give lyrics please', \n",
    "          'Get me a song for me', \n",
    "          'Could you please generate lyrics for me',\n",
    "          'I want to find a similar song',\n",
    "          'I want some popular songs',\n",
    "          'Any hippop songs for me',\n",
    "          'Morning']\n",
    "\n",
    "test_bigram_vectors = bigram_vectorizer.transform(X_test)"
   ]
  },
  {
   "cell_type": "code",
   "execution_count": 25,
   "metadata": {},
   "outputs": [],
   "source": [
    "predME = clf_ME_test.predict(test_bigram_vectors)\n",
    "predSVM = clf_svm_test.predict(test_bigram_vectors)"
   ]
  },
  {
   "cell_type": "code",
   "execution_count": 26,
   "metadata": {},
   "outputs": [
    {
     "name": "stdout",
     "output_type": "stream",
     "text": [
      "['exit' 'generate' 'find' 'generate' 'find' 'recom' 'find' 'greet'] ['exit' 'generate' 'find' 'generate' 'find' 'recom' 'find' 'greet']\n"
     ]
    }
   ],
   "source": [
    "print(predME, predSVM)"
   ]
  },
  {
   "cell_type": "code",
   "execution_count": null,
   "metadata": {},
   "outputs": [],
   "source": []
  }
 ],
 "metadata": {
  "kernelspec": {
   "display_name": "Python 3",
   "language": "python",
   "name": "python3"
  },
  "language_info": {
   "codemirror_mode": {
    "name": "ipython",
    "version": 3
   },
   "file_extension": ".py",
   "mimetype": "text/x-python",
   "name": "python",
   "nbconvert_exporter": "python",
   "pygments_lexer": "ipython3",
   "version": "3.7.6"
  }
 },
 "nbformat": 4,
 "nbformat_minor": 4
}
