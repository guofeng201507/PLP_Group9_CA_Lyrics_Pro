{
 "cells": [
  {
   "cell_type": "code",
   "execution_count": 1,
   "metadata": {
    "scrolled": true
   },
   "outputs": [
    {
     "name": "stderr",
     "output_type": "stream",
     "text": [
      "Using TensorFlow backend.\n",
      "/Applications/anaconda3/lib/python3.7/site-packages/tensorflow/python/framework/dtypes.py:526: FutureWarning: Passing (type, 1) or '1type' as a synonym of type is deprecated; in a future version of numpy, it will be understood as (type, (1,)) / '(1,)type'.\n",
      "  _np_qint8 = np.dtype([(\"qint8\", np.int8, 1)])\n",
      "/Applications/anaconda3/lib/python3.7/site-packages/tensorflow/python/framework/dtypes.py:527: FutureWarning: Passing (type, 1) or '1type' as a synonym of type is deprecated; in a future version of numpy, it will be understood as (type, (1,)) / '(1,)type'.\n",
      "  _np_quint8 = np.dtype([(\"quint8\", np.uint8, 1)])\n",
      "/Applications/anaconda3/lib/python3.7/site-packages/tensorflow/python/framework/dtypes.py:528: FutureWarning: Passing (type, 1) or '1type' as a synonym of type is deprecated; in a future version of numpy, it will be understood as (type, (1,)) / '(1,)type'.\n",
      "  _np_qint16 = np.dtype([(\"qint16\", np.int16, 1)])\n",
      "/Applications/anaconda3/lib/python3.7/site-packages/tensorflow/python/framework/dtypes.py:529: FutureWarning: Passing (type, 1) or '1type' as a synonym of type is deprecated; in a future version of numpy, it will be understood as (type, (1,)) / '(1,)type'.\n",
      "  _np_quint16 = np.dtype([(\"quint16\", np.uint16, 1)])\n",
      "/Applications/anaconda3/lib/python3.7/site-packages/tensorflow/python/framework/dtypes.py:530: FutureWarning: Passing (type, 1) or '1type' as a synonym of type is deprecated; in a future version of numpy, it will be understood as (type, (1,)) / '(1,)type'.\n",
      "  _np_qint32 = np.dtype([(\"qint32\", np.int32, 1)])\n",
      "/Applications/anaconda3/lib/python3.7/site-packages/tensorflow/python/framework/dtypes.py:535: FutureWarning: Passing (type, 1) or '1type' as a synonym of type is deprecated; in a future version of numpy, it will be understood as (type, (1,)) / '(1,)type'.\n",
      "  np_resource = np.dtype([(\"resource\", np.ubyte, 1)])\n"
     ]
    },
    {
     "name": "stdout",
     "output_type": "stream",
     "text": [
      "2.2.4\n"
     ]
    }
   ],
   "source": [
    "import pandas as pd \n",
    "import numpy as np\n",
    "import re\n",
    "import collections\n",
    "import matplotlib.pyplot as plt\n",
    "from sklearn.model_selection import train_test_split\n",
    "from nltk.corpus import stopwords\n",
    "from keras.preprocessing.text import Tokenizer\n",
    "from keras.utils.np_utils import to_categorical\n",
    "from sklearn.preprocessing import LabelEncoder\n",
    "import keras\n",
    "from keras import models\n",
    "from keras import layers\n",
    "from keras import regularizers\n",
    "import tensorflow as tf\n",
    "print (keras.__version__)"
   ]
  },
  {
   "cell_type": "code",
   "execution_count": 2,
   "metadata": {},
   "outputs": [
    {
     "name": "stdout",
     "output_type": "stream",
     "text": [
      "1.13.1\n"
     ]
    }
   ],
   "source": [
    "print(tf.__version__)"
   ]
  },
  {
   "cell_type": "code",
   "execution_count": 3,
   "metadata": {},
   "outputs": [],
   "source": [
    "NB_WORDS = 10000  \n",
    "VAL_SIZE = 1000 \n",
    "NB_START_EPOCHS = 100\n",
    "BATCH_SIZE = 512  "
   ]
  },
  {
   "cell_type": "code",
   "execution_count": 4,
   "metadata": {
    "scrolled": true
   },
   "outputs": [
    {
     "data": {
      "text/html": [
       "<div>\n",
       "<style scoped>\n",
       "    .dataframe tbody tr th:only-of-type {\n",
       "        vertical-align: middle;\n",
       "    }\n",
       "\n",
       "    .dataframe tbody tr th {\n",
       "        vertical-align: top;\n",
       "    }\n",
       "\n",
       "    .dataframe thead th {\n",
       "        text-align: right;\n",
       "    }\n",
       "</style>\n",
       "<table border=\"1\" class=\"dataframe\">\n",
       "  <thead>\n",
       "    <tr style=\"text-align: right;\">\n",
       "      <th></th>\n",
       "      <th>lyrics</th>\n",
       "      <th>Tone</th>\n",
       "    </tr>\n",
       "  </thead>\n",
       "  <tbody>\n",
       "    <tr>\n",
       "      <th>4963</th>\n",
       "      <td>[Intro: Cam'ron] Just blaze (Oh Baby) oh baby,...</td>\n",
       "      <td>Negative</td>\n",
       "    </tr>\n",
       "    <tr>\n",
       "      <th>4720</th>\n",
       "      <td>[Intro: Trillville (Lil Jon)] (What, ugh) Get ...</td>\n",
       "      <td>Negative</td>\n",
       "    </tr>\n",
       "    <tr>\n",
       "      <th>4515</th>\n",
       "      <td>Here we stand Somewhere in between this moment...</td>\n",
       "      <td>Normal</td>\n",
       "    </tr>\n",
       "    <tr>\n",
       "      <th>5608</th>\n",
       "      <td>[Intro] Yellow City, yea.. Benzino, yea Yellow...</td>\n",
       "      <td>Normal</td>\n",
       "    </tr>\n",
       "    <tr>\n",
       "      <th>2762</th>\n",
       "      <td>[Chorus] In the night, I hear 'em talk, the co...</td>\n",
       "      <td>Normal</td>\n",
       "    </tr>\n",
       "    <tr>\n",
       "      <th>6506</th>\n",
       "      <td>Duffle bag, backseat My dash, your feet Those ...</td>\n",
       "      <td>Normal</td>\n",
       "    </tr>\n",
       "    <tr>\n",
       "      <th>3719</th>\n",
       "      <td>[Intro: 6ix9ine] Scum Gang! AM Nation [Chorus ...</td>\n",
       "      <td>Negative</td>\n",
       "    </tr>\n",
       "    <tr>\n",
       "      <th>2573</th>\n",
       "      <td>[Intro: Ciara] My goodies, my goodies, my good...</td>\n",
       "      <td>Negative</td>\n",
       "    </tr>\n",
       "    <tr>\n",
       "      <th>5315</th>\n",
       "      <td>Throw it up, throw it up Watch it all fall out...</td>\n",
       "      <td>Negative</td>\n",
       "    </tr>\n",
       "    <tr>\n",
       "      <th>506</th>\n",
       "      <td>[Verse 1] They say this town The stars stay up...</td>\n",
       "      <td>Normal</td>\n",
       "    </tr>\n",
       "    <tr>\n",
       "      <th>3928</th>\n",
       "      <td>[Verse 1: Alec Benjamin] This night is cold in...</td>\n",
       "      <td>Normal</td>\n",
       "    </tr>\n",
       "    <tr>\n",
       "      <th>6410</th>\n",
       "      <td>Look, looking, looking Looking, looking, looki...</td>\n",
       "      <td>Negative</td>\n",
       "    </tr>\n",
       "    <tr>\n",
       "      <th>1492</th>\n",
       "      <td>[Verse 1] Told them your dreams, and they all ...</td>\n",
       "      <td>Normal</td>\n",
       "    </tr>\n",
       "    <tr>\n",
       "      <th>2685</th>\n",
       "      <td>[Intro] Lately, I've been, I've been thinking ...</td>\n",
       "      <td>Normal</td>\n",
       "    </tr>\n",
       "    <tr>\n",
       "      <th>1893</th>\n",
       "      <td>[Verse 1: Enrique &amp; Nicky ] I know you moved o...</td>\n",
       "      <td>Negative</td>\n",
       "    </tr>\n",
       "    <tr>\n",
       "      <th>1646</th>\n",
       "      <td>[Verse 1: Taio Cruz] I could dream of ways to ...</td>\n",
       "      <td>Normal</td>\n",
       "    </tr>\n",
       "    <tr>\n",
       "      <th>7678</th>\n",
       "      <td>I remember where we used to dance Out by the w...</td>\n",
       "      <td>Normal</td>\n",
       "    </tr>\n",
       "    <tr>\n",
       "      <th>2925</th>\n",
       "      <td>[Click here to read Tori's account of the maki...</td>\n",
       "      <td>Normal</td>\n",
       "    </tr>\n",
       "    <tr>\n",
       "      <th>7824</th>\n",
       "      <td>Uh Uh Uh, Got me like [Chorus] Wooo-hooo And w...</td>\n",
       "      <td>Normal</td>\n",
       "    </tr>\n",
       "    <tr>\n",
       "      <th>1767</th>\n",
       "      <td>Ever been misunderstood, misused, or misled Ev...</td>\n",
       "      <td>Normal</td>\n",
       "    </tr>\n",
       "    <tr>\n",
       "      <th>1076</th>\n",
       "      <td>[Verse 1] When you're low And your knees can't...</td>\n",
       "      <td>Normal</td>\n",
       "    </tr>\n",
       "    <tr>\n",
       "      <th>4733</th>\n",
       "      <td>Uh oh, uh ooo, uh oh, uh ooo Honestly If I tel...</td>\n",
       "      <td>Normal</td>\n",
       "    </tr>\n",
       "    <tr>\n",
       "      <th>3504</th>\n",
       "      <td>[Doug Middlebrook:] Here's the thing: you're i...</td>\n",
       "      <td>Negative</td>\n",
       "    </tr>\n",
       "    <tr>\n",
       "      <th>6277</th>\n",
       "      <td>I'm walking fast through the traffic lights Bu...</td>\n",
       "      <td>Normal</td>\n",
       "    </tr>\n",
       "    <tr>\n",
       "      <th>375</th>\n",
       "      <td>Sabes mi corazon Guarda todo ese amor Es el fr...</td>\n",
       "      <td>Normal</td>\n",
       "    </tr>\n",
       "    <tr>\n",
       "      <th>2088</th>\n",
       "      <td>[Verse 1] You're so delicious You're so soft S...</td>\n",
       "      <td>Normal</td>\n",
       "    </tr>\n",
       "    <tr>\n",
       "      <th>1197</th>\n",
       "      <td>[Intro: Lil Wayne] I did it for everybody out ...</td>\n",
       "      <td>Negative</td>\n",
       "    </tr>\n",
       "    <tr>\n",
       "      <th>7694</th>\n",
       "      <td>[x2] I need you boo, (oh) I gotta see you boo ...</td>\n",
       "      <td>Normal</td>\n",
       "    </tr>\n",
       "    <tr>\n",
       "      <th>1791</th>\n",
       "      <td>[Intro: 50 Cent &amp; Jeremih ] She want it, I can...</td>\n",
       "      <td>Negative</td>\n",
       "    </tr>\n",
       "    <tr>\n",
       "      <th>3365</th>\n",
       "      <td>[T.I.] Yeah, it’s the King, cuh You know my de...</td>\n",
       "      <td>Negative</td>\n",
       "    </tr>\n",
       "    <tr>\n",
       "      <th>...</th>\n",
       "      <td>...</td>\n",
       "      <td>...</td>\n",
       "    </tr>\n",
       "    <tr>\n",
       "      <th>1392</th>\n",
       "      <td>[Chorus] Lately, I've been, I've been losing s...</td>\n",
       "      <td>Normal</td>\n",
       "    </tr>\n",
       "    <tr>\n",
       "      <th>7888</th>\n",
       "      <td>All this time I was wasting Hoping you would c...</td>\n",
       "      <td>Normal</td>\n",
       "    </tr>\n",
       "    <tr>\n",
       "      <th>6859</th>\n",
       "      <td>In love, love, love, love You gotta act like a...</td>\n",
       "      <td>Negative</td>\n",
       "    </tr>\n",
       "    <tr>\n",
       "      <th>7841</th>\n",
       "      <td>Shot through the heart and you're to blame Dar...</td>\n",
       "      <td>Negative</td>\n",
       "    </tr>\n",
       "    <tr>\n",
       "      <th>229</th>\n",
       "      <td>[Intro] Estoy Loca Enamorada De ti [Verse 1] I...</td>\n",
       "      <td>Normal</td>\n",
       "    </tr>\n",
       "    <tr>\n",
       "      <th>5716</th>\n",
       "      <td>[Letra de \"Safaera\"] [Intro: Randy Nota Loca &amp;...</td>\n",
       "      <td>Negative</td>\n",
       "    </tr>\n",
       "    <tr>\n",
       "      <th>2694</th>\n",
       "      <td>(Happy Christmas Kyoko) (Happy Christmas Julia...</td>\n",
       "      <td>Normal</td>\n",
       "    </tr>\n",
       "    <tr>\n",
       "      <th>2409</th>\n",
       "      <td>[Verse 1] Hang up that red dress Let down your...</td>\n",
       "      <td>Normal</td>\n",
       "    </tr>\n",
       "    <tr>\n",
       "      <th>3240</th>\n",
       "      <td>I miss the look of surrender in your eyes The ...</td>\n",
       "      <td>Normal</td>\n",
       "    </tr>\n",
       "    <tr>\n",
       "      <th>1096</th>\n",
       "      <td>[Intro] Rock Mafia [Verse 1] For those who don...</td>\n",
       "      <td>Normal</td>\n",
       "    </tr>\n",
       "    <tr>\n",
       "      <th>944</th>\n",
       "      <td>[Verse 1] Cruisin' down the street in my 6-4 J...</td>\n",
       "      <td>Negative</td>\n",
       "    </tr>\n",
       "    <tr>\n",
       "      <th>1669</th>\n",
       "      <td>[Background: Snoh Aalegra] Silence keeps cloud...</td>\n",
       "      <td>Negative</td>\n",
       "    </tr>\n",
       "    <tr>\n",
       "      <th>5714</th>\n",
       "      <td>Yeah Who am I? Someone that's afraid to let go...</td>\n",
       "      <td>Negative</td>\n",
       "    </tr>\n",
       "    <tr>\n",
       "      <th>8</th>\n",
       "      <td>[Chorus 1] I beg your pardon I never promised ...</td>\n",
       "      <td>Normal</td>\n",
       "    </tr>\n",
       "    <tr>\n",
       "      <th>6124</th>\n",
       "      <td>[Chorus] What it is hoe, ah what's up (what's ...</td>\n",
       "      <td>Negative</td>\n",
       "    </tr>\n",
       "    <tr>\n",
       "      <th>975</th>\n",
       "      <td>[Verse 1] Every week's the same Stuck in schoo...</td>\n",
       "      <td>Normal</td>\n",
       "    </tr>\n",
       "    <tr>\n",
       "      <th>2853</th>\n",
       "      <td>[Verse 1] Hey there, Delilah What's it like in...</td>\n",
       "      <td>Negative</td>\n",
       "    </tr>\n",
       "    <tr>\n",
       "      <th>2386</th>\n",
       "      <td>[Intro] Kore kara minna de mechakucha odotte S...</td>\n",
       "      <td>Negative</td>\n",
       "    </tr>\n",
       "    <tr>\n",
       "      <th>1176</th>\n",
       "      <td>[Verbal: Child] Beasta! [Hook: Children] Do yo...</td>\n",
       "      <td>Normal</td>\n",
       "    </tr>\n",
       "    <tr>\n",
       "      <th>4021</th>\n",
       "      <td>The snow on the ground The love in the air The...</td>\n",
       "      <td>Normal</td>\n",
       "    </tr>\n",
       "    <tr>\n",
       "      <th>368</th>\n",
       "      <td>[Refrain] Do I have to change my name? Will it...</td>\n",
       "      <td>Negative</td>\n",
       "    </tr>\n",
       "    <tr>\n",
       "      <th>3822</th>\n",
       "      <td>Oh, shit, you live in the Canyon How big is yo...</td>\n",
       "      <td>Negative</td>\n",
       "    </tr>\n",
       "    <tr>\n",
       "      <th>7377</th>\n",
       "      <td>Comme te po' Comme te po' Comme te po' capì ch...</td>\n",
       "      <td>Normal</td>\n",
       "    </tr>\n",
       "    <tr>\n",
       "      <th>2517</th>\n",
       "      <td>[Verse 1] Every night at 12 o'clock (At 12 o'c...</td>\n",
       "      <td>Negative</td>\n",
       "    </tr>\n",
       "    <tr>\n",
       "      <th>1833</th>\n",
       "      <td>[Verse 1] On the other side of a street I knew...</td>\n",
       "      <td>Normal</td>\n",
       "    </tr>\n",
       "    <tr>\n",
       "      <th>1132</th>\n",
       "      <td>[Intro: 50 Cent] Yeah, uh-huh So seductive [Ch...</td>\n",
       "      <td>Negative</td>\n",
       "    </tr>\n",
       "    <tr>\n",
       "      <th>7505</th>\n",
       "      <td>[Joe Budden:] Once again it's on And we gonna ...</td>\n",
       "      <td>Negative</td>\n",
       "    </tr>\n",
       "    <tr>\n",
       "      <th>4234</th>\n",
       "      <td>And you got me like oh What you want from me? ...</td>\n",
       "      <td>Negative</td>\n",
       "    </tr>\n",
       "    <tr>\n",
       "      <th>4946</th>\n",
       "      <td>Wait Three Whoo Uh Doing 80 in a 60 fuck a tic...</td>\n",
       "      <td>Negative</td>\n",
       "    </tr>\n",
       "    <tr>\n",
       "      <th>2581</th>\n",
       "      <td>[Intro] Look [Chorus] Have mercy on me, have m...</td>\n",
       "      <td>Negative</td>\n",
       "    </tr>\n",
       "  </tbody>\n",
       "</table>\n",
       "<p>100 rows × 2 columns</p>\n",
       "</div>"
      ],
      "text/plain": [
       "                                                 lyrics      Tone\n",
       "4963  [Intro: Cam'ron] Just blaze (Oh Baby) oh baby,...  Negative\n",
       "4720  [Intro: Trillville (Lil Jon)] (What, ugh) Get ...  Negative\n",
       "4515  Here we stand Somewhere in between this moment...    Normal\n",
       "5608  [Intro] Yellow City, yea.. Benzino, yea Yellow...    Normal\n",
       "2762  [Chorus] In the night, I hear 'em talk, the co...    Normal\n",
       "6506  Duffle bag, backseat My dash, your feet Those ...    Normal\n",
       "3719  [Intro: 6ix9ine] Scum Gang! AM Nation [Chorus ...  Negative\n",
       "2573  [Intro: Ciara] My goodies, my goodies, my good...  Negative\n",
       "5315  Throw it up, throw it up Watch it all fall out...  Negative\n",
       "506   [Verse 1] They say this town The stars stay up...    Normal\n",
       "3928  [Verse 1: Alec Benjamin] This night is cold in...    Normal\n",
       "6410  Look, looking, looking Looking, looking, looki...  Negative\n",
       "1492  [Verse 1] Told them your dreams, and they all ...    Normal\n",
       "2685  [Intro] Lately, I've been, I've been thinking ...    Normal\n",
       "1893  [Verse 1: Enrique & Nicky ] I know you moved o...  Negative\n",
       "1646  [Verse 1: Taio Cruz] I could dream of ways to ...    Normal\n",
       "7678  I remember where we used to dance Out by the w...    Normal\n",
       "2925  [Click here to read Tori's account of the maki...    Normal\n",
       "7824  Uh Uh Uh, Got me like [Chorus] Wooo-hooo And w...    Normal\n",
       "1767  Ever been misunderstood, misused, or misled Ev...    Normal\n",
       "1076  [Verse 1] When you're low And your knees can't...    Normal\n",
       "4733  Uh oh, uh ooo, uh oh, uh ooo Honestly If I tel...    Normal\n",
       "3504  [Doug Middlebrook:] Here's the thing: you're i...  Negative\n",
       "6277  I'm walking fast through the traffic lights Bu...    Normal\n",
       "375   Sabes mi corazon Guarda todo ese amor Es el fr...    Normal\n",
       "2088  [Verse 1] You're so delicious You're so soft S...    Normal\n",
       "1197  [Intro: Lil Wayne] I did it for everybody out ...  Negative\n",
       "7694  [x2] I need you boo, (oh) I gotta see you boo ...    Normal\n",
       "1791  [Intro: 50 Cent & Jeremih ] She want it, I can...  Negative\n",
       "3365  [T.I.] Yeah, it’s the King, cuh You know my de...  Negative\n",
       "...                                                 ...       ...\n",
       "1392  [Chorus] Lately, I've been, I've been losing s...    Normal\n",
       "7888  All this time I was wasting Hoping you would c...    Normal\n",
       "6859  In love, love, love, love You gotta act like a...  Negative\n",
       "7841  Shot through the heart and you're to blame Dar...  Negative\n",
       "229   [Intro] Estoy Loca Enamorada De ti [Verse 1] I...    Normal\n",
       "5716  [Letra de \"Safaera\"] [Intro: Randy Nota Loca &...  Negative\n",
       "2694  (Happy Christmas Kyoko) (Happy Christmas Julia...    Normal\n",
       "2409  [Verse 1] Hang up that red dress Let down your...    Normal\n",
       "3240  I miss the look of surrender in your eyes The ...    Normal\n",
       "1096  [Intro] Rock Mafia [Verse 1] For those who don...    Normal\n",
       "944   [Verse 1] Cruisin' down the street in my 6-4 J...  Negative\n",
       "1669  [Background: Snoh Aalegra] Silence keeps cloud...  Negative\n",
       "5714  Yeah Who am I? Someone that's afraid to let go...  Negative\n",
       "8     [Chorus 1] I beg your pardon I never promised ...    Normal\n",
       "6124  [Chorus] What it is hoe, ah what's up (what's ...  Negative\n",
       "975   [Verse 1] Every week's the same Stuck in schoo...    Normal\n",
       "2853  [Verse 1] Hey there, Delilah What's it like in...  Negative\n",
       "2386  [Intro] Kore kara minna de mechakucha odotte S...  Negative\n",
       "1176  [Verbal: Child] Beasta! [Hook: Children] Do yo...    Normal\n",
       "4021  The snow on the ground The love in the air The...    Normal\n",
       "368   [Refrain] Do I have to change my name? Will it...  Negative\n",
       "3822  Oh, shit, you live in the Canyon How big is yo...  Negative\n",
       "7377  Comme te po' Comme te po' Comme te po' capì ch...    Normal\n",
       "2517  [Verse 1] Every night at 12 o'clock (At 12 o'c...  Negative\n",
       "1833  [Verse 1] On the other side of a street I knew...    Normal\n",
       "1132  [Intro: 50 Cent] Yeah, uh-huh So seductive [Ch...  Negative\n",
       "7505  [Joe Budden:] Once again it's on And we gonna ...  Negative\n",
       "4234  And you got me like oh What you want from me? ...  Negative\n",
       "4946  Wait Three Whoo Uh Doing 80 in a 60 fuck a tic...  Negative\n",
       "2581  [Intro] Look [Chorus] Have mercy on me, have m...  Negative\n",
       "\n",
       "[100 rows x 2 columns]"
      ]
     },
     "execution_count": 4,
     "metadata": {},
     "output_type": "execute_result"
    }
   ],
   "source": [
    "df = pd.read_csv('/Users/Duo/Downloads/NLP/billboardtop100_test.csv')#)\n",
    "df = df.reindex(np.random.permutation(df.index))  \n",
    "df = df[['lyrics', 'Tone']]\n",
    "df.head(100)"
   ]
  },
  {
   "cell_type": "code",
   "execution_count": 5,
   "metadata": {},
   "outputs": [],
   "source": [
    "def remove_stopwords(input_text):\n",
    "        stopwords_list = stopwords.words('english')\n",
    "        # Some words which might indicate a certain sentiment are kept via a whitelist\n",
    "        whitelist = [\"n't\", \"not\", \"no\"]\n",
    "        words = input_text.split() \n",
    "        clean_words = [word for word in words if (word not in stopwords_list or word in whitelist) and len(word) > 1] \n",
    "        return \" \".join(clean_words) \n",
    "    \n",
    "def remove_mentions(input_text):\n",
    "        return re.sub(r'@\\w+', '', input_text)"
   ]
  },
  {
   "cell_type": "code",
   "execution_count": 6,
   "metadata": {},
   "outputs": [
    {
     "name": "stderr",
     "output_type": "stream",
     "text": [
      "[nltk_data] Downloading package stopwords to /Users/Duo/nltk_data...\n",
      "[nltk_data]   Package stopwords is already up-to-date!\n"
     ]
    },
    {
     "data": {
      "text/plain": [
       "True"
      ]
     },
     "execution_count": 6,
     "metadata": {},
     "output_type": "execute_result"
    }
   ],
   "source": [
    "import nltk\n",
    "nltk.download('stopwords')"
   ]
  },
  {
   "cell_type": "code",
   "execution_count": 7,
   "metadata": {},
   "outputs": [
    {
     "data": {
      "text/html": [
       "<div>\n",
       "<style scoped>\n",
       "    .dataframe tbody tr th:only-of-type {\n",
       "        vertical-align: middle;\n",
       "    }\n",
       "\n",
       "    .dataframe tbody tr th {\n",
       "        vertical-align: top;\n",
       "    }\n",
       "\n",
       "    .dataframe thead th {\n",
       "        text-align: right;\n",
       "    }\n",
       "</style>\n",
       "<table border=\"1\" class=\"dataframe\">\n",
       "  <thead>\n",
       "    <tr style=\"text-align: right;\">\n",
       "      <th></th>\n",
       "      <th>lyrics</th>\n",
       "      <th>Tone</th>\n",
       "    </tr>\n",
       "  </thead>\n",
       "  <tbody>\n",
       "    <tr>\n",
       "      <th>4963</th>\n",
       "      <td>[Intro: Cam'ron] Just blaze (Oh Baby) oh baby,...</td>\n",
       "      <td>Negative</td>\n",
       "    </tr>\n",
       "    <tr>\n",
       "      <th>4720</th>\n",
       "      <td>[Intro: Trillville (Lil Jon)] (What, ugh) Get ...</td>\n",
       "      <td>Negative</td>\n",
       "    </tr>\n",
       "    <tr>\n",
       "      <th>4515</th>\n",
       "      <td>Here stand Somewhere moment end Will bend Or o...</td>\n",
       "      <td>Normal</td>\n",
       "    </tr>\n",
       "    <tr>\n",
       "      <th>5608</th>\n",
       "      <td>[Intro] Yellow City, yea.. Benzino, yea Yellow...</td>\n",
       "      <td>Normal</td>\n",
       "    </tr>\n",
       "    <tr>\n",
       "      <th>2762</th>\n",
       "      <td>[Chorus] In night, hear 'em talk, coldest stor...</td>\n",
       "      <td>Normal</td>\n",
       "    </tr>\n",
       "  </tbody>\n",
       "</table>\n",
       "</div>"
      ],
      "text/plain": [
       "                                                 lyrics      Tone\n",
       "4963  [Intro: Cam'ron] Just blaze (Oh Baby) oh baby,...  Negative\n",
       "4720  [Intro: Trillville (Lil Jon)] (What, ugh) Get ...  Negative\n",
       "4515  Here stand Somewhere moment end Will bend Or o...    Normal\n",
       "5608  [Intro] Yellow City, yea.. Benzino, yea Yellow...    Normal\n",
       "2762  [Chorus] In night, hear 'em talk, coldest stor...    Normal"
      ]
     },
     "execution_count": 7,
     "metadata": {},
     "output_type": "execute_result"
    }
   ],
   "source": [
    "df.lyrics = df.lyrics.apply(remove_stopwords).apply(remove_mentions)\n",
    "df.head()"
   ]
  },
  {
   "cell_type": "code",
   "execution_count": 8,
   "metadata": {},
   "outputs": [
    {
     "name": "stdout",
     "output_type": "stream",
     "text": [
      "# Train data samples: 7146\n",
      "# Test data samples: 795\n"
     ]
    }
   ],
   "source": [
    "X_train, X_test, y_train, y_test = train_test_split(df.lyrics, df.Tone, test_size=0.1, random_state=37)\n",
    "print('# Train data samples:', X_train.shape[0])\n",
    "print('# Test data samples:', X_test.shape[0])\n",
    "assert X_train.shape[0] == y_train.shape[0]\n",
    "assert X_test.shape[0] == y_test.shape[0]"
   ]
  },
  {
   "cell_type": "code",
   "execution_count": 9,
   "metadata": {},
   "outputs": [],
   "source": [
    "tk = Tokenizer(num_words=NB_WORDS,\n",
    "               filters='!\"#$%&()*+,-./:;<=>?@[\\\\]^_`{|}~\\t\\n',\n",
    "               lower=True,\n",
    "               split=\" \")\n",
    "tk.fit_on_texts(X_train)"
   ]
  },
  {
   "cell_type": "code",
   "execution_count": 10,
   "metadata": {},
   "outputs": [
    {
     "name": "stdout",
     "output_type": "stream",
     "text": [
      "Fitted tokenizer on 7146 documents\n",
      "10000 words in dictionary\n",
      "Top 10 most common words are: [(\"i'm\", 34768), ('like', 25705), ('you', 23397), ('and', 22365), ('yeah', 22240), ('know', 20788), ('oh', 20193), ('got', 18184), ('no', 17441), ('get', 16215)]\n"
     ]
    }
   ],
   "source": [
    "print('Fitted tokenizer on {} documents'.format(tk.document_count))\n",
    "print('{} words in dictionary'.format(tk.num_words))\n",
    "print('Top 10 most common words are:', collections.Counter(tk.word_counts).most_common(10))"
   ]
  },
  {
   "cell_type": "code",
   "execution_count": 11,
   "metadata": {
    "scrolled": true
   },
   "outputs": [
    {
     "name": "stdout",
     "output_type": "stream",
     "text": [
      "\"Uh uh uh gotta bring attention dirty, that's all.. You better watch talkin bout; runnin mouth, like know You gon' fuck around show \"Show Me\" get called \"Show Me\" Why one-on-one can't hold last name Hanes Only way wear stitch name pants No resident France; swear I'm Paris Hundred-six karats total? Naw that's per wrist Trying compurr chain yo' chain I'm like Sprint Motorola no service, range You brains, thinkin I'mma shout name You gotta come better ways catch fame All pressure applyin time ease Before hit blindside takin sleeves As much we's floss, still hard please boss Don't lyin bitchin cryin suck loss Cause your, acts wack, whole label wack And matter fact, eh eh-eh eh a-hold [Hook] I.. am.. #1 no matter like Here take sit write I.. am.. number one Hey hey hey hey hey hey let ask man What take #1? not winner three nobody remembers (hey) What take #1? Hey hey hey hey.. Do like shake ya, daddy? Move around? Let get peep touches ground? Hell yeah love girl that's willin learn Willin get driver's seat willin turn And not concerned say, say, say What think said? Squash that, probably got eBay Or some, Internet access some, website chat line Mad cause got mine, wind flat line Ohh uncle could see If could see many rappers wanna Straight emulatin style right \"down down\" Can't leave store better wait 'til calm got hella shorties, comin askin, \"Yo party?\" Ohh lordy continue act naughty? Mixing Cris' Bacardi, got thinkin fo' sho' I'm not man many words there's one thing know Pimp [Hook] I.. am.. number one no matter like Here take sit write Hey I.. am.. number one Hey hey hey hey hey hey hey hey Tell Dirty What take number one? Two not winner three nobody remembers (tell me) What take number one? Hey hey hey hey hey hey hey hey Check it, uhh, check, yo Aiyyo I'm tired people judgin what's real Hip-Hop Half time niggas fuckin album flop YOU KNOW! Boat done sank ain't left dock C'MON! Mad cause I'm hot; HE JUST mad cause not You ain't gotta gimme props, gimme yachts Gimme rocks, keep fans comin flocks 'Til top Superbowl, keep mouth lock Shhhhh.. {*crickets*} I'm awake, ha ha ha! I'm cocky mic I'm humble real life Taking nothin granted blessin e'rything life Trying see new light top roof Baby name not Sigel speak The Truth heat booth Nelly actin uncouth Top shirt coupe, spreadin loot With family friends, closest kin And I'll means I'mma win [Hook] Hey Dirty I.. am.. number one no matter like Here take sit write I..I..I am.. number one Two not winner three nobody remembers Number one Cause two not winner three nobody remembers\" is converted into [184, 69, 184, 295, 184, 152, 1165, 1, 297, 1162, 184, 69, 184, 295, 184, 152, 1165, 1, 297, 1162, 1165, 1, 297, 8074, 184, 644, 178, 1002, 8, 2508, 5006, 1165, 2449, 1121, 1967, 66, 208, 15, 9, 3372, 3107, 1016, 35, 1133, 1143, 152, 1165, 4696, 515, 515, 123, 131, 8405, 11, 52, 1371, 343, 562, 154, 10, 219, 515, 515, 123, 131, 8405, 11, 52, 1371, 343, 562, 154, 10, 219, 1538, 26, 559, 1538, 3719, 1165, 1568, 8406, 67, 119, 643, 6, 49, 397, 493, 184, 69, 184, 295, 184, 152, 1165, 1, 297, 1162, 184, 69, 184, 295, 184, 152, 1165, 1, 297, 1162, 184, 69, 297, 1162, 1, 9352, 6832, 1, 4448, 1774, 6414, 911, 3666, 5683, 66, 147, 1384, 29, 1, 2554, 17, 541, 1051, 624, 127, 48, 1538, 26, 559, 1538, 3719, 1165, 1568, 8406, 67, 119, 643, 6, 49, 397, 493, 184, 69, 184, 295, 184, 152, 1165, 1, 297, 1162, 184, 69, 184, 295, 184, 152, 1165, 1, 297, 1162, 184, 69, 184, 295, 184, 152, 1165, 1, 297, 1162, 184, 69, 184, 295, 184, 152, 1165, 1, 297, 1162, 184, 69]\n"
     ]
    }
   ],
   "source": [
    "X_train_seq = tk.texts_to_sequences(X_train)\n",
    "X_test_seq = tk.texts_to_sequences(X_test)\n",
    "print('\"{}\" is converted into {}'.format(X_train[0], X_train_seq[0]))"
   ]
  },
  {
   "cell_type": "code",
   "execution_count": 12,
   "metadata": {},
   "outputs": [],
   "source": [
    "def one_hot_seq(seqs, nb_features = NB_WORDS):\n",
    "    ohs = np.zeros((len(seqs), nb_features))\n",
    "    for i, s in enumerate(seqs):\n",
    "        ohs[i, s] = 1.\n",
    "    return ohs"
   ]
  },
  {
   "cell_type": "code",
   "execution_count": 13,
   "metadata": {},
   "outputs": [
    {
     "name": "stdout",
     "output_type": "stream",
     "text": [
      "\"[184, 69, 184, 295, 184, 152, 1165, 1, 297, 1162, 184, 69, 184, 295, 184, 152, 1165, 1, 297, 1162, 1165, 1, 297, 8074, 184, 644, 178, 1002, 8, 2508, 5006, 1165, 2449, 1121, 1967, 66, 208, 15, 9, 3372, 3107, 1016, 35, 1133, 1143, 152, 1165, 4696, 515, 515, 123, 131, 8405, 11, 52, 1371, 343, 562, 154, 10, 219, 515, 515, 123, 131, 8405, 11, 52, 1371, 343, 562, 154, 10, 219, 1538, 26, 559, 1538, 3719, 1165, 1568, 8406, 67, 119, 643, 6, 49, 397, 493, 184, 69, 184, 295, 184, 152, 1165, 1, 297, 1162, 184, 69, 184, 295, 184, 152, 1165, 1, 297, 1162, 184, 69, 297, 1162, 1, 9352, 6832, 1, 4448, 1774, 6414, 911, 3666, 5683, 66, 147, 1384, 29, 1, 2554, 17, 541, 1051, 624, 127, 48, 1538, 26, 559, 1538, 3719, 1165, 1568, 8406, 67, 119, 643, 6, 49, 397, 493, 184, 69, 184, 295, 184, 152, 1165, 1, 297, 1162, 184, 69, 184, 295, 184, 152, 1165, 1, 297, 1162, 184, 69, 184, 295, 184, 152, 1165, 1, 297, 1162, 184, 69, 184, 295, 184, 152, 1165, 1, 297, 1162, 184, 69]\" is converted into [0. 1. 0. ... 0. 0. 0.]\n",
      "For this example we have 72.0 features with a value of 1.\n"
     ]
    }
   ],
   "source": [
    "X_train_oh = one_hot_seq(X_train_seq)\n",
    "X_test_oh = one_hot_seq(X_test_seq)\n",
    "\n",
    "print('\"{}\" is converted into {}'.format(X_train_seq[0], X_train_oh[0]))\n",
    "print('For this example we have {} features with a value of 1.'.format(X_train_oh[0].sum()))"
   ]
  },
  {
   "cell_type": "code",
   "execution_count": 14,
   "metadata": {},
   "outputs": [
    {
     "name": "stdout",
     "output_type": "stream",
     "text": [
      "\"Negative\" is converted into 0\n",
      "\"0\" is converted into [1. 0.]\n"
     ]
    }
   ],
   "source": [
    "le = LabelEncoder()\n",
    "y_train_le = le.fit_transform(y_train)\n",
    "y_test_le = le.transform(y_test)\n",
    "y_train_oh = to_categorical(y_train_le)\n",
    "y_test_oh = to_categorical(y_test_le)\n",
    "print('\"{}\" is converted into {}'.format(y_train[0], y_train_le[0]))\n",
    "print('\"{}\" is converted into {}'.format(y_train_le[0], y_train_oh[0]))"
   ]
  },
  {
   "cell_type": "code",
   "execution_count": 15,
   "metadata": {},
   "outputs": [
    {
     "name": "stdout",
     "output_type": "stream",
     "text": [
      "Shape of validation set: (715, 10000)\n"
     ]
    }
   ],
   "source": [
    "X_train_rest, X_valid, y_train_rest, y_valid = train_test_split(X_train_oh, y_train_oh, test_size=0.1, random_state=37)\n",
    "\n",
    "assert X_valid.shape[0] == y_valid.shape[0]\n",
    "assert X_train_rest.shape[0] == y_train_rest.shape[0]\n",
    "\n",
    "print('Shape of validation set:',X_valid.shape)"
   ]
  },
  {
   "cell_type": "code",
   "execution_count": 16,
   "metadata": {},
   "outputs": [
    {
     "name": "stdout",
     "output_type": "stream",
     "text": [
      "WARNING:tensorflow:From /Applications/anaconda3/lib/python3.7/site-packages/tensorflow/python/framework/op_def_library.py:263: colocate_with (from tensorflow.python.framework.ops) is deprecated and will be removed in a future version.\n",
      "Instructions for updating:\n",
      "Colocations handled automatically by placer.\n",
      "_________________________________________________________________\n",
      "Layer (type)                 Output Shape              Param #   \n",
      "=================================================================\n",
      "dense_1 (Dense)              (None, 64)                640064    \n",
      "_________________________________________________________________\n",
      "dense_2 (Dense)              (None, 64)                4160      \n",
      "_________________________________________________________________\n",
      "dense_3 (Dense)              (None, 2)                 130       \n",
      "=================================================================\n",
      "Total params: 644,354\n",
      "Trainable params: 644,354\n",
      "Non-trainable params: 0\n",
      "_________________________________________________________________\n"
     ]
    }
   ],
   "source": [
    "base_model = models.Sequential()\n",
    "base_model.add(layers.Dense(64, activation='relu', input_shape=(NB_WORDS,)))\n",
    "base_model.add(layers.Dense(64, activation='relu'))\n",
    "base_model.add(layers.Dense(2, activation='softmax'))\n",
    "base_model.summary()"
   ]
  },
  {
   "cell_type": "code",
   "execution_count": 17,
   "metadata": {},
   "outputs": [
    {
     "name": "stdout",
     "output_type": "stream",
     "text": [
      "WARNING:tensorflow:From /Applications/anaconda3/lib/python3.7/site-packages/tensorflow/python/ops/math_ops.py:3066: to_int32 (from tensorflow.python.ops.math_ops) is deprecated and will be removed in a future version.\n",
      "Instructions for updating:\n",
      "Use tf.cast instead.\n"
     ]
    }
   ],
   "source": [
    "def deep_model(model):\n",
    "    model.compile(optimizer='rmsprop'\n",
    "                  , loss='categorical_crossentropy'\n",
    "                  , metrics=['accuracy'])\n",
    "    \n",
    "    history = model.fit(X_train_rest\n",
    "                       , y_train_rest\n",
    "                       , epochs=NB_START_EPOCHS\n",
    "                       , batch_size=BATCH_SIZE\n",
    "                       , validation_data=(X_valid, y_valid)\n",
    "                       , verbose=0)\n",
    "    \n",
    "    return history\n",
    "base_history = deep_model(base_model)"
   ]
  },
  {
   "cell_type": "code",
   "execution_count": 18,
   "metadata": {},
   "outputs": [
    {
     "data": {
      "image/png": "[encoded data removed]",
      "text/plain": [
       "<Figure size 432x288 with 1 Axes>"
      ]
     },
     "metadata": {
      "needs_background": "light"
     },
     "output_type": "display_data"
    },
    {
     "ename": "KeyError",
     "evalue": "'accuracy'",
     "output_type": "error",
     "traceback": [
      "\u001b[0;31m---------------------------------------------------------------------------\u001b[0m",
      "\u001b[0;31mKeyError\u001b[0m                                  Traceback (most recent call last)",
      "\u001b[0;32m<ipython-input-18-d648e4506020>\u001b[0m in \u001b[0;36m<module>\u001b[0;34m\u001b[0m\n\u001b[1;32m     11\u001b[0m \u001b[0;34m\u001b[0m\u001b[0m\n\u001b[1;32m     12\u001b[0m \u001b[0meval_metric\u001b[0m\u001b[0;34m(\u001b[0m\u001b[0mbase_history\u001b[0m\u001b[0;34m,\u001b[0m \u001b[0;34m'loss'\u001b[0m\u001b[0;34m)\u001b[0m\u001b[0;34m\u001b[0m\u001b[0;34m\u001b[0m\u001b[0m\n\u001b[0;32m---> 13\u001b[0;31m \u001b[0meval_metric\u001b[0m\u001b[0;34m(\u001b[0m\u001b[0mbase_history\u001b[0m\u001b[0;34m,\u001b[0m \u001b[0;34m'accuracy'\u001b[0m\u001b[0;34m)\u001b[0m\u001b[0;34m\u001b[0m\u001b[0;34m\u001b[0m\u001b[0m\n\u001b[0m",
      "\u001b[0;32m<ipython-input-18-d648e4506020>\u001b[0m in \u001b[0;36meval_metric\u001b[0;34m(history, metric_name)\u001b[0m\n\u001b[1;32m      1\u001b[0m \u001b[0;32mdef\u001b[0m \u001b[0meval_metric\u001b[0m\u001b[0;34m(\u001b[0m\u001b[0mhistory\u001b[0m\u001b[0;34m,\u001b[0m \u001b[0mmetric_name\u001b[0m\u001b[0;34m)\u001b[0m\u001b[0;34m:\u001b[0m\u001b[0;34m\u001b[0m\u001b[0;34m\u001b[0m\u001b[0m\n\u001b[0;32m----> 2\u001b[0;31m     \u001b[0mmetric\u001b[0m \u001b[0;34m=\u001b[0m \u001b[0mhistory\u001b[0m\u001b[0;34m.\u001b[0m\u001b[0mhistory\u001b[0m\u001b[0;34m[\u001b[0m\u001b[0mmetric_name\u001b[0m\u001b[0;34m]\u001b[0m\u001b[0;34m\u001b[0m\u001b[0;34m\u001b[0m\u001b[0m\n\u001b[0m\u001b[1;32m      3\u001b[0m     \u001b[0mval_metric\u001b[0m \u001b[0;34m=\u001b[0m \u001b[0mhistory\u001b[0m\u001b[0;34m.\u001b[0m\u001b[0mhistory\u001b[0m\u001b[0;34m[\u001b[0m\u001b[0;34m'val_'\u001b[0m \u001b[0;34m+\u001b[0m \u001b[0mmetric_name\u001b[0m\u001b[0;34m]\u001b[0m\u001b[0;34m\u001b[0m\u001b[0;34m\u001b[0m\u001b[0m\n\u001b[1;32m      4\u001b[0m \u001b[0;34m\u001b[0m\u001b[0m\n\u001b[1;32m      5\u001b[0m     \u001b[0me\u001b[0m \u001b[0;34m=\u001b[0m \u001b[0mrange\u001b[0m\u001b[0;34m(\u001b[0m\u001b[0;36m1\u001b[0m\u001b[0;34m,\u001b[0m \u001b[0mNB_START_EPOCHS\u001b[0m \u001b[0;34m+\u001b[0m \u001b[0;36m1\u001b[0m\u001b[0;34m)\u001b[0m\u001b[0;34m\u001b[0m\u001b[0;34m\u001b[0m\u001b[0m\n",
      "\u001b[0;31mKeyError\u001b[0m: 'accuracy'"
     ]
    }
   ],
   "source": [
    "def eval_metric(history, metric_name):\n",
    "    metric = history.history[metric_name]\n",
    "    val_metric = history.history['val_' + metric_name]\n",
    "\n",
    "    e = range(1, NB_START_EPOCHS + 1)\n",
    "\n",
    "    plt.plot(e, metric, 'bo', label='Train ' + metric_name)\n",
    "    plt.plot(e, val_metric, 'b', label='Validation ' + metric_name)\n",
    "    plt.legend()\n",
    "    plt.show()\n",
    "    \n",
    "eval_metric(base_history, 'loss')\n",
    "eval_metric(base_history, 'accuracy')"
   ]
  },
  {
   "cell_type": "code",
   "execution_count": 19,
   "metadata": {},
   "outputs": [
    {
     "name": "stdout",
     "output_type": "stream",
     "text": [
      "_________________________________________________________________\n",
      "Layer (type)                 Output Shape              Param #   \n",
      "=================================================================\n",
      "dense_4 (Dense)              (None, 32)                320032    \n",
      "_________________________________________________________________\n",
      "dense_5 (Dense)              (None, 2)                 66        \n",
      "=================================================================\n",
      "Total params: 320,098\n",
      "Trainable params: 320,098\n",
      "Non-trainable params: 0\n",
      "_________________________________________________________________\n"
     ]
    }
   ],
   "source": [
    "reduced_model = models.Sequential()\n",
    "reduced_model.add(layers.Dense(32, activation='relu', input_shape=(NB_WORDS,)))\n",
    "reduced_model.add(layers.Dense(2, activation='softmax'))\n",
    "reduced_model.summary()\n",
    "\n",
    "reduced_history = deep_model(reduced_model)\n"
   ]
  },
  {
   "cell_type": "code",
   "execution_count": 20,
   "metadata": {},
   "outputs": [
    {
     "data": {
      "image/png": "[encoded data removed]",
      "text/plain": [
       "<Figure size 432x288 with 1 Axes>"
      ]
     },
     "metadata": {
      "needs_background": "light"
     },
     "output_type": "display_data"
    }
   ],
   "source": [
    "def compare_loss_with_baseline(h, model_name):\n",
    "    loss_base_model = base_history.history['val_loss']\n",
    "    loss_model = h.history['val_loss']\n",
    "\n",
    "    e = range(1, NB_START_EPOCHS + 1)\n",
    "\n",
    "    plt.plot(e, loss_base_model, 'b', label='Validation Loss Baseline Model')\n",
    "    plt.plot(e, loss_model, 'bo', label='Validation Loss ' + model_name)\n",
    "    plt.legend()\n",
    "    plt.show()\n",
    "    \n",
    "compare_loss_with_baseline(reduced_history, 'Reduced Model')"
   ]
  },
  {
   "cell_type": "code",
   "execution_count": 21,
   "metadata": {},
   "outputs": [
    {
     "name": "stdout",
     "output_type": "stream",
     "text": [
      "_________________________________________________________________\n",
      "Layer (type)                 Output Shape              Param #   \n",
      "=================================================================\n",
      "dense_6 (Dense)              (None, 64)                640064    \n",
      "_________________________________________________________________\n",
      "dense_7 (Dense)              (None, 64)                4160      \n",
      "_________________________________________________________________\n",
      "dense_8 (Dense)              (None, 2)                 130       \n",
      "=================================================================\n",
      "Total params: 644,354\n",
      "Trainable params: 644,354\n",
      "Non-trainable params: 0\n",
      "_________________________________________________________________\n"
     ]
    },
    {
     "data": {
      "image/png": "[encoded data removed]",
      "text/plain": [
       "<Figure size 432x288 with 1 Axes>"
      ]
     },
     "metadata": {
      "needs_background": "light"
     },
     "output_type": "display_data"
    }
   ],
   "source": [
    "reg_model = models.Sequential()\n",
    "reg_model.add(layers.Dense(64, kernel_regularizer=regularizers.l2(0.001), activation='relu', input_shape=(NB_WORDS,)))\n",
    "reg_model.add(layers.Dense(64, kernel_regularizer=regularizers.l2(0.001), activation='relu'))\n",
    "reg_model.add(layers.Dense(2, activation='softmax'))\n",
    "reg_model.summary()\n",
    "    \n",
    "reg_history = deep_model(reg_model)\n",
    "compare_loss_with_baseline(reg_history, 'Regularized Model')"
   ]
  },
  {
   "cell_type": "code",
   "execution_count": 22,
   "metadata": {
    "scrolled": false
   },
   "outputs": [
    {
     "name": "stdout",
     "output_type": "stream",
     "text": [
      "WARNING:tensorflow:From /Applications/anaconda3/lib/python3.7/site-packages/keras/backend/tensorflow_backend.py:3445: calling dropout (from tensorflow.python.ops.nn_ops) with keep_prob is deprecated and will be removed in a future version.\n",
      "Instructions for updating:\n",
      "Please use `rate` instead of `keep_prob`. Rate should be set to `rate = 1 - keep_prob`.\n",
      "_________________________________________________________________\n",
      "Layer (type)                 Output Shape              Param #   \n",
      "=================================================================\n",
      "dense_9 (Dense)              (None, 64)                640064    \n",
      "_________________________________________________________________\n",
      "dropout_1 (Dropout)          (None, 64)                0         \n",
      "_________________________________________________________________\n",
      "dense_10 (Dense)             (None, 64)                4160      \n",
      "_________________________________________________________________\n",
      "dropout_2 (Dropout)          (None, 64)                0         \n",
      "_________________________________________________________________\n",
      "dense_11 (Dense)             (None, 2)                 130       \n",
      "=================================================================\n",
      "Total params: 644,354\n",
      "Trainable params: 644,354\n",
      "Non-trainable params: 0\n",
      "_________________________________________________________________\n"
     ]
    },
    {
     "data": {
      "image/png": "[encoded data removed]",
      "text/plain": [
       "<Figure size 432x288 with 1 Axes>"
      ]
     },
     "metadata": {
      "needs_background": "light"
     },
     "output_type": "display_data"
    }
   ],
   "source": [
    "drop_model = models.Sequential()\n",
    "drop_model.add(layers.Dense(64, activation='relu', input_shape=(NB_WORDS,)))\n",
    "drop_model.add(layers.Dropout(0.5))\n",
    "drop_model.add(layers.Dense(64, activation='relu'))\n",
    "drop_model.add(layers.Dropout(0.5))\n",
    "drop_model.add(layers.Dense(2, activation='softmax'))\n",
    "drop_model.summary()\n",
    "\n",
    "drop_history = deep_model(drop_model)\n",
    "\n",
    "compare_loss_with_baseline(drop_history, 'Dropout Model')"
   ]
  },
  {
   "cell_type": "code",
   "execution_count": 35,
   "metadata": {},
   "outputs": [
    {
     "name": "stdout",
     "output_type": "stream",
     "text": [
      "sequential_2\n"
     ]
    }
   ],
   "source": [
    "print(reduced_model.name)"
   ]
  },
  {
   "cell_type": "code",
   "execution_count": 47,
   "metadata": {},
   "outputs": [
    {
     "name": "stdout",
     "output_type": "stream",
     "text": [
      "795/795 [==============================] - 0s 282us/step\n",
      "/n\n",
      "Test accuracy of baseline model: 88.68%\n"
     ]
    }
   ],
   "source": [
    "def test_model(model, epoch_stop):\n",
    "    model.fit(X_train_oh\n",
    "              , y_train_oh\n",
    "              , epochs=epoch_stop\n",
    "              , batch_size=BATCH_SIZE\n",
    "              , verbose=0)\n",
    "    results = model.evaluate(X_test_oh, y_test_oh)\n",
    "    model.save_weights(str(model)+\".h5\")\n",
    "    return results\n",
    "\n",
    "base_results = test_model(base_model, 4)\n",
    "print('/n')\n",
    "print('Test accuracy of baseline model: {0:.2f}%'.format(base_results[1]*100))\n"
   ]
  },
  {
   "cell_type": "code",
   "execution_count": 49,
   "metadata": {},
   "outputs": [
    {
     "name": "stdout",
     "output_type": "stream",
     "text": [
      "795/795 [==============================] - 0s 99us/step\n",
      "/n\n",
      "Test accuracy of reduced model: 88.55%\n",
      "795/795 [==============================] - 0s 219us/step\n",
      "/n\n",
      "Test accuracy of regularized model: 94.84%\n",
      "795/795 [==============================] - 0s 114us/step\n",
      "/n\n",
      "Test accuracy of dropout model: 86.67%\n"
     ]
    }
   ],
   "source": [
    "reduced_results = test_model(reduced_model, 10)\n",
    "print('/n')\n",
    "print('Test accuracy of reduced model: {0:.2f}%'.format(reduced_results[1]*100))\n",
    "\n",
    "reg_results = test_model(reg_model, 5)\n",
    "print('/n')\n",
    "print('Test accuracy of regularized model: {0:.2f}%'.format(reg_results[1]*100))\n",
    "\n",
    "drop_results = test_model(drop_model, 6)\n",
    "print('/n')\n",
    "print('Test accuracy of dropout model: {0:.2f}%'.format(drop_results[1]*100))"
   ]
  },
  {
   "cell_type": "code",
   "execution_count": null,
   "metadata": {},
   "outputs": [],
   "source": []
  }
 ],
 "metadata": {
  "kernelspec": {
   "display_name": "Python 3",
   "language": "python",
   "name": "python3"
  },
  "language_info": {
   "codemirror_mode": {
    "name": "ipython",
    "version": 3
   },
   "file_extension": ".py",
   "mimetype": "text/x-python",
   "name": "python",
   "nbconvert_exporter": "python",
   "pygments_lexer": "ipython3",
   "version": "3.7.6"
  }
 },
 "nbformat": 4,
 "nbformat_minor": 2
}
